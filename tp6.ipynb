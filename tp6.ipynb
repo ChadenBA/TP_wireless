{
 "cells": [
  {
   "cell_type": "code",
   "execution_count": null,
   "id": "dbf1c7ed",
   "metadata": {},
   "outputs": [],
   "source": [
    "import numpy as np\n",
    "import matplotlib.pyplot as plt\n",
    "from scipy.special import erfc\n",
    "\n",
    "def awgn(signal, snr_db):\n",
    "    snr_linear = 10**(snr_db / 10)\n",
    "    power_signal = np.mean(np.abs(signal)**2)\n",
    "    noise_power = power_signal / snr_linear\n",
    "    noise = np.sqrt(noise_power) * np.random.randn(*signal.shape)\n",
    "    return signal + noise\n",
    "\n",
    "def simulate_ask_m(m, snr_db_range, num_bits=100):\n",
    "    \"\"\" Simule la modulation ASK-M et calcule le BER pour une gamme de SNR \"\"\"\n",
    "    bits_per_symbol = int(np.log2(m))\n",
    "    num_symbols = num_bits // bits_per_symbol\n",
    "\n",
    "    bits = np.random.randint(0, 2, num_bits)\n",
    "\n",
    "    symbols = np.array([int(\"\".join(map(str, bits[i:i+bits_per_symbol])), 2) for i in range(0, num_bits, bits_per_symbol)])\n",
    "\n",
    "    modulated_signal = symbols * 2 - (m - 1)\n",
    "\n",
    "    ber_results = []\n",
    "\n",
    "    for snr_db in snr_db_range:\n",
    "        received_signal = awgn(modulated_signal, snr_db)\n",
    "\n",
    "        detected_symbols = np.round((received_signal + (m - 1)) / 2).astype(int)\n",
    "        detected_symbols = np.clip(detected_symbols, 0, m - 1)\n",
    "\n",
    "        detected_bits = np.array([list(f\"{sym:0{bits_per_symbol}b}\") for sym in detected_symbols], dtype=int).flatten()\n",
    "\n",
    "        ber = np.mean(detected_bits != bits)\n",
    "        ber_results.append(ber)\n",
    "\n",
    "    return ber_results\n",
    "\n",
    "snr_db_range = np.arange(0, 30, 2)\n",
    "\n",
    "ber_ask2 = simulate_ask_m(2, snr_db_range)\n",
    "ber_ask16 = simulate_ask_m(16, snr_db_range)\n",
    "ber_ask64 = simulate_ask_m(64, snr_db_range)\n",
    "\n",
    "plt.figure(figsize=(8, 6))\n",
    "plt.semilogy(snr_db_range, ber_ask2, 'o-', label='ASK-2')\n",
    "plt.semilogy(snr_db_range, ber_ask16, 's-', label='ASK-16')\n",
    "plt.semilogy(snr_db_range, ber_ask64, 'd-', label='ASK-64')\n",
    "plt.xlabel(\"SNR (dB)\")\n",
    "plt.ylabel(\"Taux d'Erreur Binaire (BER)\")\n",
    "plt.title(\"Courbes BER en fonction du SNR pour ASK-2, ASK-16 et ASK-64\")\n",
    "plt.legend()\n",
    "plt.grid(True, which='both', linestyle='--', linewidth=0.5)\n",
    "plt.show()\n"
   ]
  },
  {
   "cell_type": "code",
   "execution_count": null,
   "id": "d9ba4677",
   "metadata": {},
   "outputs": [],
   "source": []
  }
 ],
 "metadata": {
  "kernelspec": {
   "display_name": "Python 3 (ipykernel)",
   "language": "python",
   "name": "python3"
  },
  "language_info": {
   "codemirror_mode": {
    "name": "ipython",
    "version": 3
   },
   "file_extension": ".py",
   "mimetype": "text/x-python",
   "name": "python",
   "nbconvert_exporter": "python",
   "pygments_lexer": "ipython3",
   "version": "3.11.5"
  }
 },
 "nbformat": 4,
 "nbformat_minor": 5
}
